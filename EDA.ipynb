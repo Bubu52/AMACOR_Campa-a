{
 "cells": [
  {
   "cell_type": "markdown",
   "metadata": {},
   "source": [
    "## DESCRIPCIÓN DEL PROBLEMA A RESOVER \n",
    " \n",
    "Estrategia  de  Campaña  Telefónica  para  Depósitos  a  Plazo  Fijo  en  el \n",
    "Contexto Bancario"
   ]
  },
  {
   "cell_type": "markdown",
   "metadata": {},
   "source": [
    "#### Introducción: \n",
    " \n",
    "En el dinámico mundo bancario, los depósitos a plazo fijo son esenciales \n",
    "tanto  para  los  clientes  como  para  las  entidades  bancarias.  Estos  productos \n",
    "financieros  ofrecen  estabilidad  y  rentabilidad.  Sin  embargo,  las  entidades \n",
    "bancarias se enfrentan al desafío de identificar clientes potenciales y optimizar \n",
    "sus recursos para llevar a cabo campañas telefónicas efectivas"
   ]
  },
  {
   "cell_type": "markdown",
   "metadata": {},
   "source": [
    "#### Objetivos: \n",
    " \n",
    "Realizar un análisis exploratorio detallado sobre los diferentes tipos de \n",
    "clientes presentes en el conjunto de datos. \n",
    "Desarrollar un modelo predictivo para identificar qué clientes tienen más \n",
    "probabilidad de contratar un depósito a plazo fijo. \n",
    "Explicar los resultados obtenidos y proporcionar recomendaciones para \n",
    "mejorar la eficacia de futuras campañas."
   ]
  },
  {
   "cell_type": "markdown",
   "metadata": {},
   "source": [
    "#### Desarrollo del Caso: \n",
    " \n",
    "- Parte 1 (Análisis Exploratorio de Clientes)\n",
    "\n",
    "- Parte 2 (Modelo Predictivo)\n",
    "\n",
    "- Parte 3 (Explicación de Resultados)"
   ]
  },
  {
   "cell_type": "markdown",
   "metadata": {},
   "source": [
    "### Librerias"
   ]
  },
  {
   "cell_type": "code",
   "execution_count": null,
   "metadata": {},
   "outputs": [],
   "source": [
    "import pandas as pd\n",
    "\n",
    "\n"
   ]
  },
  {
   "cell_type": "markdown",
   "metadata": {},
   "source": [
    "### Cargamos la Data (Train)"
   ]
  },
  {
   "cell_type": "code",
   "execution_count": null,
   "metadata": {},
   "outputs": [],
   "source": [
    "original = pd.read_csv('Data_Train.csv', sep = ';')"
   ]
  },
  {
   "cell_type": "code",
   "execution_count": null,
   "metadata": {},
   "outputs": [],
   "source": []
  }
 ],
 "metadata": {
  "language_info": {
   "name": "python"
  }
 },
 "nbformat": 4,
 "nbformat_minor": 2
}
